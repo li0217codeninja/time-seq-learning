{
  "nbformat": 4,
  "nbformat_minor": 0,
  "metadata": {
    "colab": {
      "provenance": [],
      "toc_visible": true,
      "authorship_tag": "ABX9TyNzhzIs3NXtNzwXFcyuIhZv",
      "include_colab_link": true
    },
    "kernelspec": {
      "name": "python3",
      "display_name": "Python 3"
    },
    "language_info": {
      "name": "python"
    }
  },
  "cells": [
    {
      "cell_type": "markdown",
      "metadata": {
        "id": "view-in-github",
        "colab_type": "text"
      },
      "source": [
        "<a href=\"https://colab.research.google.com/github/li0217codeninja/time-seq-learning/blob/main/timeseriesTransformer.ipynb\" target=\"_parent\"><img src=\"https://colab.research.google.com/assets/colab-badge.svg\" alt=\"Open In Colab\"/></a>"
      ]
    },
    {
      "cell_type": "code",
      "execution_count": null,
      "metadata": {
        "colab": {
          "base_uri": "https://localhost:8080/"
        },
        "id": "AEQUISXvHJFt",
        "outputId": "1c181a84-a58d-42e8-94bb-c89e3284486e"
      },
      "outputs": [
        {
          "output_type": "stream",
          "name": "stdout",
          "text": [
            "Python 3.10.12\n"
          ]
        }
      ],
      "source": [
        "!python --version"
      ]
    },
    {
      "cell_type": "code",
      "source": [
        "import torch\n",
        "from torch import nn\n",
        "from torch.utils.data import DataLoader\n"
      ],
      "metadata": {
        "id": "fIz62e3DHc3e"
      },
      "execution_count": null,
      "outputs": []
    },
    {
      "cell_type": "code",
      "source": [
        "class SequenceDataset(torch.utils.data.Dataset):\n",
        "    def __init__(self, seq_length):\n",
        "        self.seq_length = seq_length\n",
        "\n",
        "    def __len__(self):\n",
        "        return 10000  # Replace with actual dataset size\n",
        "\n",
        "    def __getitem__(self, idx):\n",
        "        # Generate a sequence number\n",
        "        seq_num = torch.tensor(idx)\n",
        "\n",
        "        # Generate a sequence of numbers based on seq_num\n",
        "        seq_data = torch.randn(self.seq_length) * seq_num\n",
        "\n",
        "        return seq_num, seq_data\n",
        "\n",
        "def collate_fn(samples):\n",
        "    seq_nums, seq_data = zip(*samples)\n",
        "    # Pad or truncate sequences to a fixed length (optional)\n",
        "    # ...\n",
        "    return torch.stack(seq_nums), torch.stack(seq_data)\n",
        "\n",
        "train_loader = DataLoader(\n",
        "    SequenceDataset(seq_length=32),\n",
        "    batch_size=32,\n",
        "    shuffle=True,\n",
        "    collate_fn=collate_fn,\n",
        ")\n"
      ],
      "metadata": {
        "id": "nqSG2spHLgVk"
      },
      "execution_count": null,
      "outputs": []
    },
    {
      "cell_type": "code",
      "source": [
        "transformer_model = nn.Transformer(nhead=16)\n",
        "src = torch.rand(10, 32, 512)\n",
        "tgt = torch.rand(20, 32, 512)\n",
        "out = transformer_model(src, tgt)"
      ],
      "metadata": {
        "id": "RQ7q2JjaHkWO"
      },
      "execution_count": null,
      "outputs": []
    },
    {
      "cell_type": "code",
      "source": [
        "loss_fn = torch.nn.MSELoss()\n",
        "optimizer = torch.optim.Adam(transformer_model.parameters())\n",
        "\n",
        "epochs = 10\n",
        "for epoch in range(epochs):\n",
        "  for batch_idx, (data, target) in enumerate(train_loader):\n",
        "    # Forward pass\n",
        "    output = transformer_model(data,target)\n",
        "    # Loss calculation\n",
        "    loss = loss_fn(output, target)\n",
        "    # Backward pass and parameter update\n",
        "    optimizer.zero_grad()\n",
        "    loss.backward()\n",
        "    optimizer.step()\n"
      ],
      "metadata": {
        "id": "3XUyed8OKcDg"
      },
      "execution_count": null,
      "outputs": []
    },
    {
      "cell_type": "code",
      "source": [
        "transformer_model.parameters()"
      ],
      "metadata": {
        "colab": {
          "base_uri": "https://localhost:8080/"
        },
        "id": "szgxXweSKx_K",
        "outputId": "2d916fb4-6b9b-43a0-a417-84158c233f4a"
      },
      "execution_count": null,
      "outputs": [
        {
          "output_type": "execute_result",
          "data": {
            "text/plain": [
              "<generator object Module.parameters at 0x7a4ca5ac67a0>"
            ]
          },
          "metadata": {},
          "execution_count": 15
        }
      ]
    }
  ]
}