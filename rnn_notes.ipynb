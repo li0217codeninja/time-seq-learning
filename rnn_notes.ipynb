{
  "nbformat": 4,
  "nbformat_minor": 0,
  "metadata": {
    "colab": {
      "provenance": [],
      "authorship_tag": "ABX9TyMO/ZTpjXAmvQ3NNOnc/eQY",
      "include_colab_link": true
    },
    "kernelspec": {
      "name": "python3",
      "display_name": "Python 3"
    },
    "language_info": {
      "name": "python"
    }
  },
  "cells": [
    {
      "cell_type": "markdown",
      "metadata": {
        "id": "view-in-github",
        "colab_type": "text"
      },
      "source": [
        "<a href=\"https://colab.research.google.com/github/li0217codeninja/time-seq-learning/blob/main/rnn_notes.ipynb\" target=\"_parent\"><img src=\"https://colab.research.google.com/assets/colab-badge.svg\" alt=\"Open In Colab\"/></a>"
      ]
    },
    {
      "cell_type": "markdown",
      "source": [
        "build training examples in rnn"
      ],
      "metadata": {
        "id": "cTIofdMwHanC"
      }
    },
    {
      "cell_type": "code",
      "execution_count": 1,
      "metadata": {
        "id": "pz1A119tHEa6"
      },
      "outputs": [],
      "source": [
        "def build_data(text, Tx = 40, stride = 3):\n",
        "    \"\"\"\n",
        "    Create a training set by scanning a window of size Tx over the text corpus, with stride 3.\n",
        "\n",
        "    Arguments:\n",
        "    text -- string, corpus of Shakespearian poem\n",
        "    Tx -- sequence length, number of time-steps (or characters) in one training example\n",
        "    stride -- how much the window shifts itself while scanning\n",
        "\n",
        "    Returns:\n",
        "    X -- list of training examples\n",
        "    Y -- list of training labels\n",
        "    \"\"\"\n",
        "\n",
        "    X = []\n",
        "    Y = []\n",
        "\n",
        "    for i in range(0, len(text) - Tx, stride):\n",
        "        X.append(text[i: i + Tx])\n",
        "        Y.append(text[i + Tx])\n",
        "\n",
        "    print('number of training examples:', len(X))\n",
        "\n",
        "    return X, Y"
      ]
    },
    {
      "cell_type": "code",
      "source": [
        "texts = 'good morning neighbors, '\n",
        "X, Y = build_data(texts, 5, 1)\n",
        "print(X) # len(X) depends on text corpuse\n",
        "print(Y) # len(Y) depends on text corpus"
      ],
      "metadata": {
        "colab": {
          "base_uri": "https://localhost:8080/"
        },
        "id": "cek5-MDvHzhc",
        "outputId": "31f68d53-241f-4c0d-ea70-949129102993"
      },
      "execution_count": 8,
      "outputs": [
        {
          "output_type": "stream",
          "name": "stdout",
          "text": [
            "number of training examples: 19\n",
            "['good ', 'ood m', 'od mo', 'd mor', ' morn', 'morni', 'ornin', 'rning', 'ning ', 'ing n', 'ng ne', 'g nei', ' neig', 'neigh', 'eighb', 'ighbo', 'ghbor', 'hbors', 'bors,']\n",
            "['m', 'o', 'r', 'n', 'i', 'n', 'g', ' ', 'n', 'e', 'i', 'g', 'h', 'b', 'o', 'r', 's', ',', ' ']\n"
          ]
        }
      ]
    },
    {
      "cell_type": "code",
      "source": [
        "X"
      ],
      "metadata": {
        "colab": {
          "base_uri": "https://localhost:8080/"
        },
        "id": "iDzQvyvRIKHJ",
        "outputId": "31494bac-e188-4f60-9bd3-056c0e5a19e2"
      },
      "execution_count": 3,
      "outputs": [
        {
          "output_type": "execute_result",
          "data": {
            "text/plain": [
              "['good ',\n",
              " 'od mo',\n",
              " ' morn',\n",
              " 'ornin',\n",
              " 'ning ',\n",
              " 'ng ne',\n",
              " ' neig',\n",
              " 'eighb',\n",
              " 'ghbor',\n",
              " 'bors,']"
            ]
          },
          "metadata": {},
          "execution_count": 3
        }
      ]
    },
    {
      "cell_type": "markdown",
      "source": [],
      "metadata": {
        "id": "RCS9i4HgHYdJ"
      }
    }
  ]
}